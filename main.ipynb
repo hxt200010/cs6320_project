{
 "cells": [
  {
   "cell_type": "code",
   "execution_count": 19,
   "id": "b663e96a-3094-4a9c-bd45-e5b6789afb7f",
   "metadata": {
    "jupyter": {
     "source_hidden": true
    }
   },
   "outputs": [
    {
     "name": "stdout",
     "output_type": "stream",
     "text": [
      "Enter your OpenAI API key:  ········\n"
     ]
    }
   ],
   "source": [
    "import os\n",
    "from getpass import getpass\n",
    "\n",
    "os.environ[\"OPENAI_API_KEY\"] = getpass(\"Enter your OpenAI API key: \")\n"
   ]
  },
  {
   "cell_type": "code",
   "execution_count": 31,
   "id": "e7e4c83e-ff77-4b23-8c59-c0d50084e820",
   "metadata": {},
   "outputs": [
    {
     "name": "stdout",
     "output_type": "stream",
     "text": [
      "✅ ZIP extracted to: python_docs\n"
     ]
    }
   ],
   "source": [
    "import os\n",
    "import zipfile\n",
    "\n",
    "\n",
    "zip_path = \"python-3.13-docs-text.zip\"\n",
    "extract_dir = \"python_docs\"\n",
    "\n",
    "with zipfile.ZipFile(zip_path, \"r\") as zip_ref:\n",
    "    zip_ref.extractall(extract_dir)\n",
    "\n",
    "print(\"✅ ZIP extracted to:\", extract_dir)\n"
   ]
  },
  {
   "cell_type": "code",
   "execution_count": 32,
   "id": "f0873b25-ced2-43ad-8cb0-0f403b1c637e",
   "metadata": {},
   "outputs": [
    {
     "name": "stdout",
     "output_type": "stream",
     "text": [
      "📄 Loaded 507 text documents.\n"
     ]
    }
   ],
   "source": [
    "from langchain.docstore.document import Document\n",
    "\n",
    "documents = []\n",
    "\n",
    "for root, _, files in os.walk(\"python_docs\"):\n",
    "    for file in files:\n",
    "        if file.endswith(\".txt\"):\n",
    "            with open(os.path.join(root, file), \"r\", encoding=\"utf-8\") as f:\n",
    "                text = f.read()\n",
    "                documents.append(Document(page_content=text, metadata={\"source\": file}))\n",
    "\n",
    "print(f\"📄 Loaded {len(documents)} text documents.\")\n"
   ]
  },
  {
   "cell_type": "code",
   "execution_count": null,
   "id": "21745697-0045-444f-86bd-f32c2a20d0fb",
   "metadata": {},
   "outputs": [
    {
     "name": "stdout",
     "output_type": "stream",
     "text": [
      "✂️ Total text chunks: 15919\n"
     ]
    }
   ],
   "source": [
    "#split documents into chunks\n",
    "from langchain.text_splitter import RecursiveCharacterTextSplitter\n",
    "\n",
    "splitter = RecursiveCharacterTextSplitter(chunk_size=1000, chunk_overlap=100)\n",
    "split_docs = splitter.split_documents(documents)\n",
    "\n",
    "print(f\"✂️ Total text chunks: {len(split_docs)}\")\n"
   ]
  },
  {
   "cell_type": "code",
   "execution_count": 34,
   "id": "7e7abb06-b587-47e2-ac20-c44415478a42",
   "metadata": {},
   "outputs": [
    {
     "name": "stdout",
     "output_type": "stream",
     "text": [
      "🔐 Enter your OpenAI API key:  ········\n"
     ]
    }
   ],
   "source": [
    "from langchain.embeddings import OpenAIEmbeddings\n",
    "from langchain.vectorstores import FAISS\n",
    "from getpass import getpass\n",
    "import os\n",
    "\n",
    "# Ask for API key safely\n",
    "os.environ[\"OPENAI_API_KEY\"] = getpass(\"🔐 Enter your OpenAI API key: \")\n",
    "\n",
    "# Generate embeddings\n",
    "embeddings = OpenAIEmbeddings()\n",
    "vectorstore = FAISS.from_documents(split_docs, embeddings)\n",
    "retriever = vectorstore.as_retriever(search_kwargs={\"k\": 4})\n"
   ]
  },
  {
   "cell_type": "code",
   "execution_count": 35,
   "id": "93417437-1fa4-48c3-b19b-fee892600b3a",
   "metadata": {},
   "outputs": [],
   "source": [
    "from langchain.chat_models import ChatOpenAI\n",
    "from langchain.chains import RetrievalQA\n",
    "\n",
    "llm = ChatOpenAI(model_name=\"gpt-3.5-turbo\", temperature=0)\n",
    "\n",
    "qa_chain = RetrievalQA.from_chain_type(\n",
    "    llm=llm,\n",
    "    retriever=retriever,\n",
    "    return_source_documents=True\n",
    ")\n"
   ]
  },
  {
   "cell_type": "code",
   "execution_count": 36,
   "id": "ff01e293-866a-4b33-9296-1a15bbcbfd47",
   "metadata": {},
   "outputs": [
    {
     "name": "stdout",
     "output_type": "stream",
     "text": [
      "\n",
      "📘 Answer:\n",
      "The `print()` function in Python is used to display output to the console. It writes the value of the argument(s) it is given. It differs from just writing the expression you want to write in the way it handles multiple arguments, floating-point quantities, and strings. Strings are printed without quotes, and a space is inserted between items.\n",
      "\n",
      "🔗 Sources:\n",
      " - 3.0.txt\n",
      " - introduction.txt\n",
      " - 3.0.txt\n",
      " - 3.4.txt\n"
     ]
    }
   ],
   "source": [
    "query = \"What does the print() function do in Python?\"\n",
    "result = qa_chain(query)\n",
    "\n",
    "print(\"\\n📘 Answer:\")\n",
    "print(result[\"result\"])\n",
    "\n",
    "print(\"\\n🔗 Sources:\")\n",
    "for doc in result[\"source_documents\"]:\n",
    "    print(\" -\", doc.metadata[\"source\"])\n"
   ]
  },
  {
   "cell_type": "code",
   "execution_count": 40,
   "id": "b316a394-aacc-4ce8-a15b-fa386c683c5a",
   "metadata": {},
   "outputs": [],
   "source": [
    "from langchain.chains import ConversationalRetrievalChain\n",
    "from langchain.memory import ConversationBufferMemory\n",
    "\n",
    "memory = ConversationBufferMemory(\n",
    "    memory_key=\"chat_history\", \n",
    "    return_messages=True,\n",
    "    output_key=\"answer\"  # ✅ tell it to store only the answer\n",
    ")\n",
    "\n",
    "conversation_chain = ConversationalRetrievalChain.from_llm(\n",
    "    llm=llm,\n",
    "    retriever=retriever,\n",
    "    memory=memory,\n",
    "    return_source_documents=True,\n",
    "    output_key=\"answer\"  # ✅ same fix here\n",
    ")\n"
   ]
  },
  {
   "cell_type": "code",
   "execution_count": 41,
   "id": "dddbe998-f7e4-4078-9185-be9179948a4b",
   "metadata": {},
   "outputs": [
    {
     "name": "stdout",
     "output_type": "stream",
     "text": [
      "🤖 Ask me anything about Python docs! Type 'exit' to quit.\n",
      "\n"
     ]
    },
    {
     "name": "stdout",
     "output_type": "stream",
     "text": [
      "🧑 You:  give me one if else example of python\n"
     ]
    },
    {
     "name": "stdout",
     "output_type": "stream",
     "text": [
      "\n",
      "🤖 Answer:\n",
      "Sure, here is a simple example of an if-else statement in Python:\n",
      "\n",
      "```python\n",
      "x = 10\n",
      "\n",
      "if x > 5:\n",
      "    print(\"x is greater than 5\")\n",
      "else:\n",
      "    print(\"x is less than or equal to 5\")\n",
      "```\n",
      "\n",
      "In this example, if the value of `x` is greater than 5, it will print \"x is greater than 5\"; otherwise, it will print \"x is less than or equal to 5\".\n",
      "\n",
      "📚 Sources:\n",
      " - controlflow.txt\n",
      " - programming.txt\n",
      " - 3.10.txt\n",
      " - errors.txt\n",
      "\n",
      "---\n"
     ]
    },
    {
     "name": "stdout",
     "output_type": "stream",
     "text": [
      "🧑 You:  do it for java\n"
     ]
    },
    {
     "name": "stdout",
     "output_type": "stream",
     "text": [
      "\n",
      "🤖 Answer:\n",
      "I don't know.\n",
      "\n",
      "📚 Sources:\n",
      " - controlflow.txt\n",
      " - 3.10.txt\n",
      " - programming.txt\n",
      " - compound_stmts.txt\n",
      "\n",
      "---\n"
     ]
    },
    {
     "name": "stdout",
     "output_type": "stream",
     "text": [
      "🧑 You:  quit\n"
     ]
    },
    {
     "name": "stdout",
     "output_type": "stream",
     "text": [
      "👋 Goodbye!\n"
     ]
    }
   ],
   "source": [
    "print(\"🤖 Ask me anything about Python docs! Type 'exit' to quit.\\n\")\n",
    "\n",
    "while True:\n",
    "    query = input(\"🧑 You: \")\n",
    "    if query.lower() in [\"exit\", \"quit\", \"bye\"]:\n",
    "        print(\"👋 Goodbye!\")\n",
    "        break\n",
    "\n",
    "    result = conversation_chain({\"question\": query})\n",
    "\n",
    "    print(\"\\n🤖 Answer:\\n\" + result[\"answer\"])\n",
    "\n",
    "    print(\"\\n📚 Sources:\")\n",
    "    for doc in result[\"source_documents\"]:\n",
    "        print(\" -\", doc.metadata[\"source\"])\n",
    "    \n",
    "    print(\"\\n---\")\n"
   ]
  },
  {
   "cell_type": "code",
   "execution_count": 42,
   "id": "fd1d641d-13aa-4aa7-bea9-4ca0a10006ea",
   "metadata": {},
   "outputs": [
    {
     "name": "stderr",
     "output_type": "stream",
     "text": [
      "warning: in the working copy of '.ipynb_checkpoints/main-checkpoint.ipynb', LF will be replaced by CRLF the next time Git touches it\n",
      "warning: in the working copy of 'main.ipynb', LF will be replaced by CRLF the next time Git touches it\n"
     ]
    }
   ],
   "source": [
    "!git add ."
   ]
  },
  {
   "cell_type": "code",
   "execution_count": 43,
   "id": "c4639592-a28f-4d3d-a4ad-7dd495068ead",
   "metadata": {},
   "outputs": [
    {
     "name": "stderr",
     "output_type": "stream",
     "text": [
      "Everything up-to-date\n"
     ]
    }
   ],
   "source": [
    "!git push origin"
   ]
  },
  {
   "cell_type": "code",
   "execution_count": null,
   "id": "19365ccd-d958-4214-b2b7-0d0fd968f474",
   "metadata": {},
   "outputs": [],
   "source": []
  }
 ],
 "metadata": {
  "kernelspec": {
   "display_name": "Python 3 (ipykernel)",
   "language": "python",
   "name": "python3"
  },
  "language_info": {
   "codemirror_mode": {
    "name": "ipython",
    "version": 3
   },
   "file_extension": ".py",
   "mimetype": "text/x-python",
   "name": "python",
   "nbconvert_exporter": "python",
   "pygments_lexer": "ipython3",
   "version": "3.10.4"
  }
 },
 "nbformat": 4,
 "nbformat_minor": 5
}
