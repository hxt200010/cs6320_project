{
 "cells": [
  {
   "cell_type": "code",
   "execution_count": 4,
   "id": "e7e4c83e-ff77-4b23-8c59-c0d50084e820",
   "metadata": {},
   "outputs": [
    {
     "name": "stdout",
     "output_type": "stream",
     "text": [
      "✅ ZIP extracted to: python_docs\n"
     ]
    }
   ],
   "source": [
    "import os\n",
    "import zipfile\n",
    "\n",
    "\n",
    "zip_path = \"python-3.13-docs-text.zip\"\n",
    "extract_dir = \"python_docs\"\n",
    "\n",
    "with zipfile.ZipFile(zip_path, \"r\") as zip_ref:\n",
    "    zip_ref.extractall(extract_dir)\n",
    "\n",
    "print(\"✅ ZIP extracted to:\", extract_dir)\n"
   ]
  },
  {
   "cell_type": "code",
   "execution_count": 5,
   "id": "f0873b25-ced2-43ad-8cb0-0f403b1c637e",
   "metadata": {},
   "outputs": [
    {
     "name": "stdout",
     "output_type": "stream",
     "text": [
      "📄 Loaded 507 text documents.\n"
     ]
    }
   ],
   "source": [
    "from langchain.docstore.document import Document\n",
    "\n",
    "documents = []\n",
    "\n",
    "for root, _, files in os.walk(\"python_docs\"):\n",
    "    for file in files:\n",
    "        if file.endswith(\".txt\"):\n",
    "            with open(os.path.join(root, file), \"r\", encoding=\"utf-8\") as f:\n",
    "                text = f.read()\n",
    "                documents.append(Document(page_content=text, metadata={\"source\": file}))\n",
    "\n",
    "print(f\"📄 Loaded {len(documents)} text documents.\")\n"
   ]
  },
  {
   "cell_type": "code",
   "execution_count": 6,
   "id": "21745697-0045-444f-86bd-f32c2a20d0fb",
   "metadata": {},
   "outputs": [
    {
     "name": "stdout",
     "output_type": "stream",
     "text": [
      "✂️ Total text chunks: 15919\n"
     ]
    }
   ],
   "source": [
    "#split documents into chunks\n",
    "from langchain.text_splitter import RecursiveCharacterTextSplitter\n",
    "\n",
    "splitter = RecursiveCharacterTextSplitter(chunk_size=1000, chunk_overlap=100)\n",
    "split_docs = splitter.split_documents(documents)\n",
    "\n",
    "print(f\"✂️ Total text chunks: {len(split_docs)}\")\n"
   ]
  },
  {
   "cell_type": "code",
   "execution_count": 7,
   "id": "7e7abb06-b587-47e2-ac20-c44415478a42",
   "metadata": {},
   "outputs": [
    {
     "name": "stdin",
     "output_type": "stream",
     "text": [
      "🔐 Enter your OpenAI API key:  ········\n"
     ]
    },
    {
     "name": "stderr",
     "output_type": "stream",
     "text": [
      "C:\\Users\\trahu\\AppData\\Local\\Temp\\ipykernel_14220\\3704368007.py:10: LangChainDeprecationWarning: The class `OpenAIEmbeddings` was deprecated in LangChain 0.0.9 and will be removed in 1.0. An updated version of the class exists in the :class:`~langchain-openai package and should be used instead. To use it run `pip install -U :class:`~langchain-openai` and import as `from :class:`~langchain_openai import OpenAIEmbeddings``.\n",
      "  embeddings = OpenAIEmbeddings()\n"
     ]
    }
   ],
   "source": [
    "from langchain.embeddings import OpenAIEmbeddings\n",
    "from langchain.vectorstores import FAISS\n",
    "from getpass import getpass\n",
    "import os\n",
    "\n",
    "# Ask for API key safely\n",
    "os.environ[\"OPENAI_API_KEY\"] = getpass(\"🔐 Enter your OpenAI API key: \")\n",
    "\n",
    "# Generate embeddings\n",
    "embeddings = OpenAIEmbeddings()\n",
    "vectorstore = FAISS.from_documents(split_docs, embeddings)\n",
    "retriever = vectorstore.as_retriever(search_kwargs={\"k\": 4})\n"
   ]
  },
  {
   "cell_type": "code",
   "execution_count": 8,
   "id": "93417437-1fa4-48c3-b19b-fee892600b3a",
   "metadata": {},
   "outputs": [
    {
     "name": "stderr",
     "output_type": "stream",
     "text": [
      "C:\\Users\\trahu\\AppData\\Local\\Temp\\ipykernel_14220\\2928076918.py:4: LangChainDeprecationWarning: The class `ChatOpenAI` was deprecated in LangChain 0.0.10 and will be removed in 1.0. An updated version of the class exists in the :class:`~langchain-openai package and should be used instead. To use it run `pip install -U :class:`~langchain-openai` and import as `from :class:`~langchain_openai import ChatOpenAI``.\n",
      "  llm = ChatOpenAI(model_name=\"gpt-3.5-turbo\", temperature=0)\n"
     ]
    }
   ],
   "source": [
    "from langchain.chat_models import ChatOpenAI\n",
    "from langchain.chains import RetrievalQA\n",
    "\n",
    "llm = ChatOpenAI(model_name=\"gpt-3.5-turbo\", temperature=0)\n",
    "\n",
    "qa_chain = RetrievalQA.from_chain_type(\n",
    "    llm=llm,\n",
    "    retriever=retriever,\n",
    "    return_source_documents=True\n",
    ")\n"
   ]
  },
  {
   "cell_type": "code",
   "execution_count": 10,
   "id": "b316a394-aacc-4ce8-a15b-fa386c683c5a",
   "metadata": {},
   "outputs": [
    {
     "name": "stderr",
     "output_type": "stream",
     "text": [
      "C:\\Users\\trahu\\AppData\\Local\\Temp\\ipykernel_14220\\682399099.py:4: LangChainDeprecationWarning: Please see the migration guide at: https://python.langchain.com/docs/versions/migrating_memory/\n",
      "  memory = ConversationBufferMemory(\n"
     ]
    }
   ],
   "source": [
    "from langchain.chains import ConversationalRetrievalChain\n",
    "from langchain.memory import ConversationBufferMemory\n",
    "\n",
    "memory = ConversationBufferMemory(\n",
    "    memory_key=\"chat_history\", \n",
    "    return_messages=True,\n",
    "    output_key=\"answer\"  # ✅ tell it to store only the answer\n",
    ")\n",
    "\n",
    "conversation_chain = ConversationalRetrievalChain.from_llm(\n",
    "    llm=llm,\n",
    "    retriever=retriever,\n",
    "    memory=memory,\n",
    "    return_source_documents=True,\n",
    "    output_key=\"answer\"  # ✅ same fix here\n",
    ")\n"
   ]
  },
  {
   "cell_type": "code",
   "execution_count": null,
   "id": "dddbe998-f7e4-4078-9185-be9179948a4b",
   "metadata": {},
   "outputs": [
    {
     "name": "stdout",
     "output_type": "stream",
     "text": [
      "🤖 Ask me anything about Python docs! Type 'exit' to quit.\n",
      "\n"
     ]
    },
    {
     "name": "stdin",
     "output_type": "stream",
     "text": [
      "🧑 You:  how can I print matrix in python? \n"
     ]
    },
    {
     "name": "stdout",
     "output_type": "stream",
     "text": [
      "\n",
      "🤖 Answer:\n",
      "To print a matrix in Python, you can use a loop to iterate over each row and then print each element in that row. Here's an example using a 2D list as a matrix:\n",
      "\n",
      "```python\n",
      "# Define a 2D list as a matrix\n",
      "matrix = [[1, 2, 3], [4, 5, 6], [7, 8, 9]]\n",
      "\n",
      "# Print the matrix\n",
      "for row in matrix:\n",
      "    print(row)\n",
      "```\n",
      "\n",
      "When you run this code, it will print each row of the matrix on a new line. You can adjust the formatting as needed based on your requirements.\n",
      "\n",
      "📚 Sources:\n",
      " - programming.txt\n",
      " - windows.txt\n",
      " - 3.0.txt\n",
      " - 2.0.txt\n",
      "\n",
      "---\n"
     ]
    },
    {
     "name": "stdin",
     "output_type": "stream",
     "text": [
      "🧑 You:  can you solve a leetcode using python?\n"
     ]
    },
    {
     "name": "stdout",
     "output_type": "stream",
     "text": [
      "\n",
      "🤖 Answer:\n",
      "I don't know.\n",
      "\n",
      "📚 Sources:\n",
      " - programming.txt\n",
      " - programming.txt\n",
      " - introduction.txt\n",
      " - ios.txt\n",
      "\n",
      "---\n"
     ]
    },
    {
     "name": "stdin",
     "output_type": "stream",
     "text": [
      "🧑 You:  how to use lambda\n"
     ]
    },
    {
     "name": "stdout",
     "output_type": "stream",
     "text": [
      "\n",
      "🤖 Answer:\n",
      "Lambda expressions in Python can be used to create small anonymous functions. These functions are created using the `lambda` keyword followed by parameters and an expression. Lambda functions are typically used where function objects are required, and they are syntactically restricted to a single expression. Here is an example of using lambda to create a simple function:\n",
      "\n",
      "```python\n",
      "adder = lambda x, y: x + y\n",
      "print(adder(2, 3))  # Output: 5\n",
      "```\n",
      "\n",
      "Lambda functions can also be used to return functions or as arguments to other functions. Here is an example of using lambda to return a function:\n",
      "\n",
      "```python\n",
      "def make_incrementor(n):\n",
      "    return lambda x: x + n\n",
      "\n",
      "f = make_incrementor(42)\n",
      "print(f(0))  # Output: 42\n",
      "print(f(1))  # Output: 43\n",
      "```\n",
      "\n",
      "Additionally, lambda functions can be used in situations where you need to pass a small function as an argument, like sorting a list based on a specific key:\n",
      "\n",
      "```python\n",
      "pairs = [(1, 'one'), (2, 'two'), (3, 'three'), (4, 'four')]\n",
      "pairs.sort(key=lambda pair: pair[1])\n",
      "print(pairs)  # Output: [(4, 'four'), (1, 'one'), (3, 'three'), (2, 'two')]\n",
      "```\n",
      "\n",
      "Overall, lambda expressions in Python provide a concise way to create simple functions without the need to define a full function using the `def` keyword.\n",
      "\n",
      "📚 Sources:\n",
      " - design.txt\n",
      " - functional.txt\n",
      " - controlflow.txt\n",
      " - controlflow.txt\n",
      "\n",
      "---\n"
     ]
    },
    {
     "name": "stdin",
     "output_type": "stream",
     "text": [
      "🧑 You:  how to love a girlfriend\n"
     ]
    },
    {
     "name": "stdout",
     "output_type": "stream",
     "text": [
      "\n",
      "🤖 Answer:\n",
      "There are many ways to show love to a girlfriend, including:\n",
      "\n",
      "1. **Acts of Service**: Doing things for her that make her life easier or more enjoyable.\n",
      "2. **Quality Time**: Spending time together, giving her your undivided attention.\n",
      "3. **Physical Touch**: Hugs, kisses, holding hands, and other physical gestures of affection.\n",
      "4. **Words of Affirmation**: Complimenting her, expressing your love and appreciation verbally.\n",
      "5. **Gifts**: Thoughtful gifts that show you care and know her well.\n",
      "6. **Support**: Being there for her during tough times, offering emotional support and encouragement.\n",
      "\n",
      "Ultimately, the best way to show love to a girlfriend is to understand her love language and tailor your actions to what resonates most with her. Communication and understanding her needs are key.\n",
      "\n",
      "📚 Sources:\n",
      " - itertools.txt\n",
      " - 3.11.txt\n",
      " - buffer.txt\n",
      " - xml.txt\n",
      "\n",
      "---\n"
     ]
    },
    {
     "name": "stdin",
     "output_type": "stream",
     "text": [
      "🧑 You:  show me how to use java\n"
     ]
    },
    {
     "name": "stdout",
     "output_type": "stream",
     "text": [
      "\n",
      "🤖 Answer:\n",
      "Python is the focus of the provided context, not Java. If you have questions about Java, feel free to ask, and I'll do my best to help you with that.\n",
      "\n",
      "📚 Sources:\n",
      " - appetite.txt\n",
      " - general.txt\n",
      " - appetite.txt\n",
      " - sockets.txt\n",
      "\n",
      "---\n"
     ]
    },
    {
     "name": "stdin",
     "output_type": "stream",
     "text": [
      "🧑 You:  which documentation.txt give me the information about if else in the doc\n"
     ]
    },
    {
     "name": "stdout",
     "output_type": "stream",
     "text": [
      "\n",
      "🤖 Answer:\n",
      "The provided context does not specify a specific \"documentation.txt\" file that contains information about if-else statements. It mainly discusses conventions for documentation strings, the use of doctests, and the transition from LaTeX to HTML for documentation. If you are looking for information specifically about if-else statements, you may need to refer to Python programming documentation or tutorials related to Python conditional statements.\n",
      "\n",
      "📚 Sources:\n",
      " - controlflow.txt\n",
      " - controlflow.txt\n",
      " - doctest.txt\n",
      " - 2.6.txt\n",
      "\n",
      "---\n"
     ]
    },
    {
     "name": "stdin",
     "output_type": "stream",
     "text": [
      "🧑 You:  if else in java please\n"
     ]
    },
    {
     "name": "stdout",
     "output_type": "stream",
     "text": [
      "\n",
      "🤖 Answer:\n",
      "I don't know, as I am focused on Python programming.\n",
      "\n",
      "📚 Sources:\n",
      " - controlflow.txt\n",
      " - compound_stmts.txt\n",
      " - controlflow.txt\n",
      " - compound_stmts.txt\n",
      "\n",
      "---\n"
     ]
    },
    {
     "name": "stdout",
     "output_type": "stream",
     "text": [
      "\n",
      "🤖 Answer:\n",
      "Sure, here is a simple example of an if-else statement in Python:\n",
      "\n",
      "```python\n",
      "x = 10\n",
      "\n",
      "if x > 5:\n",
      "    print(\"x is greater than 5\")\n",
      "else:\n",
      "    print(\"x is less than or equal to 5\")\n",
      "```\n",
      "\n",
      "In this example, if the value of `x` is greater than 5, it will print \"x is greater than 5\"; otherwise, it will print \"x is less than or equal to 5\".\n",
      "\n",
      "📚 Sources:\n",
      " - controlflow.txt\n",
      " - programming.txt\n",
      " - 3.10.txt\n",
      " - errors.txt\n",
      "\n",
      "---\n"
     ]
    },
    {
     "name": "stdout",
     "output_type": "stream",
     "text": [
      "🧑 You:  do it for java\n"
     ]
    },
    {
     "name": "stdout",
     "output_type": "stream",
     "text": [
      "\n",
      "🤖 Answer:\n",
      "I don't know.\n",
      "\n",
      "📚 Sources:\n",
      " - controlflow.txt\n",
      " - 3.10.txt\n",
      " - programming.txt\n",
      " - compound_stmts.txt\n",
      "\n",
      "---\n"
     ]
    },
    {
     "name": "stdout",
     "output_type": "stream",
     "text": [
      "🧑 You:  quit\n"
     ]
    },
    {
     "name": "stdout",
     "output_type": "stream",
     "text": [
      "👋 Goodbye!\n"
     ]
    }
   ],
   "source": [
    "print(\"🤖 Ask me anything about Python docs! Type 'exit' to quit.\\n\")\n",
    "\n",
    "while True:\n",
    "    query = input(\"🧑 You: \")\n",
    "    if query.lower() in [\"exit\", \"quit\", \"bye\"]:\n",
    "        print(\"👋 Goodbye!\")\n",
    "        break\n",
    "\n",
    "    result = conversation_chain({\"question\": query})\n",
    "\n",
    "    print(\"\\n🤖 Answer:\\n\" + result[\"answer\"])\n",
    "\n",
    "    print(\"\\n📚 Sources:\")\n",
    "    for doc in result[\"source_documents\"]:\n",
    "        print(\" -\", doc.metadata[\"source\"])\n",
    "    \n",
    "    print(\"\\n---\")\n"
   ]
  }
 ],
 "metadata": {
  "kernelspec": {
   "display_name": "Python 3 (ipykernel)",
   "language": "python",
   "name": "python3"
  },
  "language_info": {
   "codemirror_mode": {
    "name": "ipython",
    "version": 3
   },
   "file_extension": ".py",
   "mimetype": "text/x-python",
   "name": "python",
   "nbconvert_exporter": "python",
   "pygments_lexer": "ipython3",
   "version": "3.10.4"
  }
 },
 "nbformat": 4,
 "nbformat_minor": 5
}
